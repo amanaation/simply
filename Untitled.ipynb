{
 "cells": [
  {
   "cell_type": "code",
   "execution_count": 1,
   "metadata": {},
   "outputs": [],
   "source": [
    "from selenium import webdriver  # Import from seleniumwire"
   ]
  },
  {
   "cell_type": "code",
   "execution_count": 50,
   "metadata": {},
   "outputs": [],
   "source": [
    "class Simply:\n",
    "    \n",
    "    def __init__(self):\n",
    "        self.driver = webdriver.Chrome()\n",
    "        \n",
    "    def process(self, commands):\n",
    "        commands = commands.split(\"\\n\")       \n",
    "        for command in commands:\n",
    "            command = command.strip()\n",
    "            command = command.split()            \n",
    "            action = command.pop(0)\n",
    "            params = command\n",
    "            self._route_action(action, params)\n",
    "\n",
    "    def _route_action(self, action, params):\n",
    "        print(action)\n",
    "        action = action.lower()\n",
    "        action = action.strip()\n",
    "        if action == \"get\":\n",
    "            self.get(params)\n",
    "        if action == \"select\":\n",
    "            self.get_element(params[-1], params[2])\n",
    "            \n",
    "#     def enter_text(slef, params):\n",
    "\n",
    "    def get_element(self, element_identifier, identifier_type):\n",
    "#         print(element_identifier, identifier_type)\n",
    "        identifier_type = identifier_type.lower()\n",
    "        try :\n",
    "            if identifier_type == \"id\":\n",
    "                return self.driver.find_elements_by_id(element_identifier)\n",
    "            elif identifier_type == \"name\":\n",
    "                return self.driver.find_elements_by_name(element_identifier)\n",
    "            elif identifier_type == \"tag\":\n",
    "                return self.driver.find_elements_by_tag_name(element_identifier)\n",
    "            elif identifier_type == \"link_text\":\n",
    "                return self.driver.find_elements_by_link_text(element_identifier)\n",
    "            elif identifier_type == \"partial_link_text\":\n",
    "                return self.driver.find_elements_by_name(element_identifier)\n",
    "            elif identifier_type == \"class\":\n",
    "                return self.driver.find_elements_by_class_name(element_identifier)\n",
    "            elif identifier_type == \"xpath\":\n",
    "                return self.driver.find_elements_by_xpath(element_identifier)\n",
    "            else:\n",
    "                return '''Provided Identifier is invalid. Expected identifier type should be one of the following \n",
    "                        1. ID\n",
    "                        2. Name\n",
    "                        3. Tag\n",
    "                        4. Link_text\n",
    "                        5. Partial_link_text\n",
    "                        6. Class\n",
    "                        7. XPath'''\n",
    "        except:\n",
    "            return \"An Exception Occured. Could not find the element with \" + identifier_type + \" = \" + element_identifier \n",
    "            \n",
    "    def get(self, url):\n",
    "        print(url[0])\n",
    "        self.driver.get(url[0])"
   ]
  },
  {
   "cell_type": "code",
   "execution_count": 51,
   "metadata": {},
   "outputs": [],
   "source": [
    "simply = Simply()"
   ]
  },
  {
   "cell_type": "code",
   "execution_count": 52,
   "metadata": {},
   "outputs": [
    {
     "name": "stdout",
     "output_type": "stream",
     "text": [
      "GET\n",
      "http://google.com/\n"
     ]
    }
   ],
   "source": [
    "demo_string = '''GET http://google.com/'''\n",
    "simply.process(demo_string)"
   ]
  },
  {
   "cell_type": "code",
   "execution_count": 53,
   "metadata": {},
   "outputs": [
    {
     "name": "stdout",
     "output_type": "stream",
     "text": [
      "SELECT\n",
      "None\n"
     ]
    }
   ],
   "source": [
    "demo_string = ''' SELECT element with XPATH //*[@id=\"tsf\"]/div[2]/div[1]/div[1]/div/div[2]/input'''\n",
    "print(simply.process(demo_string))"
   ]
  },
  {
   "cell_type": "code",
   "execution_count": 34,
   "metadata": {},
   "outputs": [
    {
     "data": {
      "text/plain": [
       "[<selenium.webdriver.remote.webelement.WebElement (session=\"af8ac44da75a3795471a57777d69755e\", element=\"74993d23-d4b2-4e62-a2c9-6f3b77ccf906\")>]"
      ]
     },
     "execution_count": 34,
     "metadata": {},
     "output_type": "execute_result"
    }
   ],
   "source": [
    "simply.driver.find_elements_by_xpath('//*[@id=\"tsf\"]/div[2]/div[1]/div[1]/div/div[2]/input')\n",
    "//*[@id=\"tsf\"]/div[2]/div[1]/div[1]/div/div[2]/input"
   ]
  }
 ],
 "metadata": {
  "kernelspec": {
   "display_name": "Python 3",
   "language": "python",
   "name": "python3"
  },
  "language_info": {
   "codemirror_mode": {
    "name": "ipython",
    "version": 3
   },
   "file_extension": ".py",
   "mimetype": "text/x-python",
   "name": "python",
   "nbconvert_exporter": "python",
   "pygments_lexer": "ipython3",
   "version": "3.7.5"
  }
 },
 "nbformat": 4,
 "nbformat_minor": 4
}
